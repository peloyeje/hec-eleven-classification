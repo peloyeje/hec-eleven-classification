{
 "cells": [
  {
   "cell_type": "markdown",
   "metadata": {},
   "source": [
    "# Eleven supercase"
   ]
  },
  {
   "cell_type": "markdown",
   "metadata": {},
   "source": [
    "### Data preparation"
   ]
  },
  {
   "cell_type": "code",
   "execution_count": 1,
   "metadata": {},
   "outputs": [],
   "source": [
    "import pandas as pd\n",
    "import numpy as np\n",
    "\n",
    "import dask\n",
    "import dask.dataframe as dd\n",
    "import dask.distributed as dist"
   ]
  },
  {
   "cell_type": "code",
   "execution_count": 2,
   "metadata": {},
   "outputs": [],
   "source": [
    "import pathlib"
   ]
  },
  {
   "cell_type": "code",
   "execution_count": 3,
   "metadata": {},
   "outputs": [],
   "source": [
    "cluster = dist.LocalCluster(n_workers=4, memory_limit='8G') # MBP config\n",
    "client = dist.Client(cluster)"
   ]
  },
  {
   "cell_type": "code",
   "execution_count": 4,
   "metadata": {},
   "outputs": [
    {
     "data": {
      "text/html": [
       "<table style=\"border: 2px solid white;\">\n",
       "<tr>\n",
       "<td style=\"vertical-align: top; border: 0px solid white\">\n",
       "<h3>Client</h3>\n",
       "<ul>\n",
       "  <li><b>Scheduler: </b>tcp://127.0.0.1:50626\n",
       "  <li><b>Dashboard: </b><a href='http://127.0.0.1:8787/status' target='_blank'>http://127.0.0.1:8787/status</a>\n",
       "</ul>\n",
       "</td>\n",
       "<td style=\"vertical-align: top; border: 0px solid white\">\n",
       "<h3>Cluster</h3>\n",
       "<ul>\n",
       "  <li><b>Workers: </b>4</li>\n",
       "  <li><b>Cores: </b>8</li>\n",
       "  <li><b>Memory: </b>32.00 GB</li>\n",
       "</ul>\n",
       "</td>\n",
       "</tr>\n",
       "</table>"
      ],
      "text/plain": [
       "<Client: scheduler='tcp://127.0.0.1:50626' processes=4 cores=8>"
      ]
     },
     "execution_count": 4,
     "metadata": {},
     "output_type": "execute_result"
    }
   ],
   "source": [
    "client"
   ]
  },
  {
   "cell_type": "code",
   "execution_count": 94,
   "metadata": {},
   "outputs": [],
   "source": [
    "common_params = {\n",
    "    'sep': ';',\n",
    "    'index_col': 0\n",
    "}"
   ]
  },
  {
   "cell_type": "markdown",
   "metadata": {},
   "source": [
    "#### Clients"
   ]
  },
  {
   "cell_type": "code",
   "execution_count": 182,
   "metadata": {},
   "outputs": [
    {
     "name": "stdout",
     "output_type": "stream",
     "text": [
      ";CLIENT_NUMBER;CREATION_DATE;GENDER;BIRTH_YEAR;ZIPCODE\n",
      "0;-1182315409949716431;2002-12-05;Mme;1955.0;68440\n",
      "1;7142641182482142162;2002-12-05;Mme;;24100\n",
      "2;-4786858050561650068;2002-12-05;Mme;1945.0;39240\n",
      "3;-8463163259230597037;2002-12-05;Mme;;42290\n",
      "4;-8047395753631590665;2003-10-06;Mme;1934.0;13006\n",
      "5;-2369385976575044628;1995-03-01;Mme;1950.0;78770\n",
      "6;159112630817189253;2002-12-04;Mme;;30132\n",
      "7;-1608550333657870307;2002-12-04;Mme;;30840\n",
      "8;-4343559112705444389;2002-12-04;Mme;;.\n"
     ]
    }
   ],
   "source": [
    "!head ../data/CLIENTS_new.csv"
   ]
  },
  {
   "cell_type": "code",
   "execution_count": 183,
   "metadata": {},
   "outputs": [
    {
     "name": "stdout",
     "output_type": "stream",
     "text": [
      " 3125801 ../data/CLIENTS_new.csv\n"
     ]
    }
   ],
   "source": [
    "!wc -l ../data/CLIENTS_new.csv"
   ]
  },
  {
   "cell_type": "code",
   "execution_count": 184,
   "metadata": {},
   "outputs": [
    {
     "name": "stderr",
     "output_type": "stream",
     "text": [
      "/Users/JEP/.pyenv/versions/3.6.6/envs/eleven-classif/lib/python3.6/site-packages/numpy/lib/arraysetops.py:522: FutureWarning: elementwise comparison failed; returning scalar instead, but in the future will perform elementwise comparison\n",
      "  mask |= (ar1 == a)\n"
     ]
    }
   ],
   "source": [
    "clients = pd.read_csv('../data/CLIENTS_new.csv', parse_dates=[2], **common_params, dtype={'CLIENT_NUMBER': object})\n",
    "# Lowercase columns\n",
    "clients.columns = clients.columns.map(str.lower)"
   ]
  },
  {
   "cell_type": "code",
   "execution_count": 185,
   "metadata": {},
   "outputs": [
    {
     "name": "stdout",
     "output_type": "stream",
     "text": [
      "<class 'pandas.core.frame.DataFrame'>\n",
      "Int64Index: 3125800 entries, 0 to 3125799\n",
      "Data columns (total 5 columns):\n",
      "client_number    object\n",
      "creation_date    datetime64[ns]\n",
      "gender           object\n",
      "birth_year       float64\n",
      "zipcode          object\n",
      "dtypes: datetime64[ns](1), float64(1), object(3)\n",
      "memory usage: 143.1+ MB\n"
     ]
    }
   ],
   "source": [
    "clients.info()"
   ]
  },
  {
   "cell_type": "code",
   "execution_count": 186,
   "metadata": {},
   "outputs": [],
   "source": [
    "# Normalize client numbers\n",
    "#clients['client_number'] = np.abs(clients['client_number'])\n",
    "# Categorise gender\n",
    "clients['gender'] = clients['gender'].astype('category')\n",
    "# Clean zipcode : we remove all foreign zipcodes\n",
    "valid_zipcodes = clients['zipcode'].str.match(r'[A-Z0-9-]{5}', na=False)\n",
    "clients.loc[clients['zipcode'].isnull() | ~valid_zipcodes, 'zipcode'] = np.nan"
   ]
  },
  {
   "cell_type": "markdown",
   "metadata": {},
   "source": [
    "#### Commandes"
   ]
  },
  {
   "cell_type": "code",
   "execution_count": 187,
   "metadata": {},
   "outputs": [
    {
     "name": "stdout",
     "output_type": "stream",
     "text": [
      ";CLIENT_NUMBER;ORDER_NUMBER;ORDER_DATE;ORDER_CHANNEL;PRE_TAX_AMOUNT;CVIC\n",
      "0;7178742953965764755;2302390;2010-01-05;Telephone;84.28;True\n",
      "1;-2373390172893352743;2302392;2010-01-17;Telephone;97.85;True\n",
      "2;-240944575938990062;2302393;2010-01-05;Telephone;58.45;True\n",
      "3;1720395480962300217;2302394;2010-01-05;Telephone;31.19;True\n",
      "4;7161131950067982732;2302396;2010-01-14;Telephone;37.45;True\n",
      "5;-792970086774522568;2302397;2010-01-20;Courier;53.59;True\n",
      "6;-6274234340433084502;2302398;2010-01-05;Telephone;69.74;False\n",
      "7;879133938684538799;2302399;2010-01-05;Telephone;95.64;False\n",
      "8;3966491398253851080;2302400;2010-01-05;Telephone;59.78;True\n"
     ]
    }
   ],
   "source": [
    "!head ../data/CMD_new.csv"
   ]
  },
  {
   "cell_type": "code",
   "execution_count": 188,
   "metadata": {},
   "outputs": [
    {
     "name": "stdout",
     "output_type": "stream",
     "text": [
      " 7323228 ../data/CMD_new.csv\n"
     ]
    }
   ],
   "source": [
    "!wc -l ../data/CMD_new.csv"
   ]
  },
  {
   "cell_type": "code",
   "execution_count": 189,
   "metadata": {},
   "outputs": [
    {
     "name": "stderr",
     "output_type": "stream",
     "text": [
      "/Users/JEP/.pyenv/versions/3.6.6/envs/eleven-classif/lib/python3.6/site-packages/numpy/lib/arraysetops.py:522: FutureWarning: elementwise comparison failed; returning scalar instead, but in the future will perform elementwise comparison\n",
      "  mask |= (ar1 == a)\n"
     ]
    }
   ],
   "source": [
    "orders = pd.read_csv('../data/CMD_new.csv', parse_dates=[3], **common_params, dtype={'CLIENT_NUMBER': object})\n",
    "# Lowercase columns\n",
    "orders.columns = orders.columns.map(str.lower)"
   ]
  },
  {
   "cell_type": "code",
   "execution_count": 190,
   "metadata": {},
   "outputs": [
    {
     "name": "stdout",
     "output_type": "stream",
     "text": [
      "<class 'pandas.core.frame.DataFrame'>\n",
      "Int64Index: 7323227 entries, 0 to 7323226\n",
      "Data columns (total 6 columns):\n",
      "client_number     object\n",
      "order_number      int64\n",
      "order_date        datetime64[ns]\n",
      "order_channel     object\n",
      "pre_tax_amount    float64\n",
      "cvic              bool\n",
      "dtypes: bool(1), datetime64[ns](1), float64(1), int64(1), object(2)\n",
      "memory usage: 342.2+ MB\n"
     ]
    }
   ],
   "source": [
    "orders.info()"
   ]
  },
  {
   "cell_type": "code",
   "execution_count": 172,
   "metadata": {},
   "outputs": [],
   "source": [
    "# Normalize client numbers\n",
    "orders['client_number'] = np.abs(orders['client_number'])"
   ]
  },
  {
   "cell_type": "markdown",
   "metadata": {},
   "source": [
    "How many orders have been made via Internet by the same customer during the same day ?"
   ]
  },
  {
   "cell_type": "code",
   "execution_count": null,
   "metadata": {},
   "outputs": [],
   "source": [
    "((orders.loc[lambda df: df['order_channel'] == 'Internet']\n",
    "      .groupby(['client_number', 'order_date'])\n",
    "      .count()\n",
    "      .loc[lambda df: df.index.get_level_values(1) > '2017-08-01', 'order_number']) == 2).sum()"
   ]
  },
  {
   "cell_type": "markdown",
   "metadata": {},
   "source": [
    "#### Join commandes / utilisateurs"
   ]
  },
  {
   "cell_type": "code",
   "execution_count": 191,
   "metadata": {},
   "outputs": [
    {
     "name": "stdout",
     "output_type": "stream",
     "text": [
      ";VISITOR_ID;CLIENT_NUMBER\n",
      "0;153926;2117916268519517296\n",
      "1;153987;-3983308646720649306\n",
      "2;153992;-2525192206264180159\n",
      "3;153996;1543724696132514059\n",
      "4;154002;-3753347333864614269\n",
      "5;154003;-6763383487168091997\n",
      "6;154004;-7429564109483778435\n",
      "7;154005;403207568119538010\n",
      "8;154006;2387852670736446380\n"
     ]
    }
   ],
   "source": [
    "!head ../data/TABLE_CONVERSION_new.csv"
   ]
  },
  {
   "cell_type": "code",
   "execution_count": 192,
   "metadata": {},
   "outputs": [
    {
     "name": "stdout",
     "output_type": "stream",
     "text": [
      "  580405 ../data/TABLE_CONVERSION_new.csv\n"
     ]
    }
   ],
   "source": [
    "!wc -l ../data/TABLE_CONVERSION_new.csv"
   ]
  },
  {
   "cell_type": "code",
   "execution_count": 193,
   "metadata": {},
   "outputs": [],
   "source": [
    "joins = pd.read_csv('../data/TABLE_CONVERSION_new.csv', **common_params, dtype={'CLIENT_NUMBER': object})\n",
    "# Lowercase columns\n",
    "joins.columns = joins.columns.map(str.lower)"
   ]
  },
  {
   "cell_type": "code",
   "execution_count": 194,
   "metadata": {},
   "outputs": [
    {
     "name": "stdout",
     "output_type": "stream",
     "text": [
      "<class 'pandas.core.frame.DataFrame'>\n",
      "Int64Index: 580404 entries, 0 to 580403\n",
      "Data columns (total 2 columns):\n",
      "visitor_id       580404 non-null int64\n",
      "client_number    580404 non-null object\n",
      "dtypes: int64(1), object(1)\n",
      "memory usage: 13.3+ MB\n"
     ]
    }
   ],
   "source": [
    "joins.info()"
   ]
  },
  {
   "cell_type": "code",
   "execution_count": 177,
   "metadata": {},
   "outputs": [],
   "source": [
    "# Normalize client numbers\n",
    "joins['client_number'] = np.abs(joins['client_number'])"
   ]
  },
  {
   "cell_type": "code",
   "execution_count": 196,
   "metadata": {},
   "outputs": [
    {
     "data": {
      "text/html": [
       "<div>\n",
       "<style scoped>\n",
       "    .dataframe tbody tr th:only-of-type {\n",
       "        vertical-align: middle;\n",
       "    }\n",
       "\n",
       "    .dataframe tbody tr th {\n",
       "        vertical-align: top;\n",
       "    }\n",
       "\n",
       "    .dataframe thead th {\n",
       "        text-align: right;\n",
       "    }\n",
       "</style>\n",
       "<table border=\"1\" class=\"dataframe\">\n",
       "  <thead>\n",
       "    <tr style=\"text-align: right;\">\n",
       "      <th></th>\n",
       "      <th>visitor_id</th>\n",
       "      <th>client_number</th>\n",
       "    </tr>\n",
       "  </thead>\n",
       "  <tbody>\n",
       "    <tr>\n",
       "      <th>0</th>\n",
       "      <td>153926</td>\n",
       "      <td>2117916268519517296</td>\n",
       "    </tr>\n",
       "    <tr>\n",
       "      <th>1</th>\n",
       "      <td>153987</td>\n",
       "      <td>-3983308646720649306</td>\n",
       "    </tr>\n",
       "    <tr>\n",
       "      <th>2</th>\n",
       "      <td>153992</td>\n",
       "      <td>-2525192206264180159</td>\n",
       "    </tr>\n",
       "    <tr>\n",
       "      <th>3</th>\n",
       "      <td>153996</td>\n",
       "      <td>1543724696132514059</td>\n",
       "    </tr>\n",
       "    <tr>\n",
       "      <th>4</th>\n",
       "      <td>154002</td>\n",
       "      <td>-3753347333864614269</td>\n",
       "    </tr>\n",
       "  </tbody>\n",
       "</table>\n",
       "</div>"
      ],
      "text/plain": [
       "   visitor_id         client_number\n",
       "0      153926   2117916268519517296\n",
       "1      153987  -3983308646720649306\n",
       "2      153992  -2525192206264180159\n",
       "3      153996   1543724696132514059\n",
       "4      154002  -3753347333864614269"
      ]
     },
     "execution_count": 196,
     "metadata": {},
     "output_type": "execute_result"
    }
   ],
   "source": [
    "joins.head()"
   ]
  },
  {
   "cell_type": "markdown",
   "metadata": {},
   "source": [
    "#### Logs"
   ]
  },
  {
   "cell_type": "code",
   "execution_count": null,
   "metadata": {},
   "outputs": [],
   "source": [
    "!head ../data/LOG_WEB_201708.csv"
   ]
  },
  {
   "cell_type": "code",
   "execution_count": null,
   "metadata": {},
   "outputs": [],
   "source": [
    "!wc -l ../data/LOG_WEB_20*"
   ]
  },
  {
   "cell_type": "markdown",
   "metadata": {},
   "source": [
    "Quick fix for the 201709 file (remove unneeded column)"
   ]
  },
  {
   "cell_type": "code",
   "execution_count": null,
   "metadata": {},
   "outputs": [],
   "source": [
    "# Drop first two columns\n",
    "(pd.read_csv('../data/LOG_WEB_201709.csv', sep=';')\n",
    "   .iloc[:, 2:]\n",
    "   .to_csv('../data/LOG_WEB_201709_new.csv', sep=';'))"
   ]
  },
  {
   "cell_type": "markdown",
   "metadata": {},
   "source": [
    "We do a quick preprocessing and save the result in parquet in order to improve loading times"
   ]
  },
  {
   "cell_type": "code",
   "execution_count": null,
   "metadata": {},
   "outputs": [],
   "source": [
    "logs = (dd.read_csv('../data/LOG_WEB_20*.csv', \n",
    "            sep=';', \n",
    "            parse_dates=[4,5], \n",
    "            blocksize=500*1e6, \n",
    "            dtype={'LOADINGS': 'float64'}))"
   ]
  },
  {
   "cell_type": "code",
   "execution_count": null,
   "metadata": {},
   "outputs": [],
   "source": [
    "import hashlib\n",
    "\n",
    "def session_hash(row, selected=None):\n",
    "    payload = '-'.join([str(row[c]) for c in selected])\n",
    "    return hashlib.sha1(payload.encode('utf8')).hexdigest()[:12]"
   ]
  },
  {
   "cell_type": "code",
   "execution_count": null,
   "metadata": {},
   "outputs": [],
   "source": [
    "mapping = pd.read_csv('../data/funnel_w_label.csv', sep=';')"
   ]
  },
  {
   "cell_type": "code",
   "execution_count": null,
   "metadata": {},
   "outputs": [],
   "source": [
    "mapping = mapping.drop(['key', 'cat_4'], axis=1)\n",
    "mapping = mapping.replace('none', np.nan)\n",
    "mapping = mapping.applymap(lambda s: s.strip() if s is not np.nan else s)"
   ]
  },
  {
   "cell_type": "code",
   "execution_count": null,
   "metadata": {},
   "outputs": [],
   "source": [
    "# Lowercase columns\n",
    "logs.columns = logs.columns.map(str.lower)\n",
    "# Drop id and loadings\n",
    "logs = logs.iloc[:, 1:-1]\n",
    "\n",
    "## Feature engineering\n",
    "\n",
    "# Recreate session id\n",
    "logs['session_id'] = logs.apply(session_hash, axis=1, selected=['visitor_id', 'session_start_date', 'global_sources', 'device_type'], meta=str)\n",
    "\n",
    "# Drop unknown pages\n",
    "logs = logs.dropna(subset=['pages'], how='all')\n",
    "# Extract \"fil d'ariane\" page components \n",
    "meta = pd.DataFrame(columns=['page_top', 'page_sub1', 'page_sub2'], dtype='object')\n",
    "logs[['page_top', 'page_sub1', 'page_sub2']] = logs['pages'].map_partitions(lambda df: df.str.extract(\n",
    "    '(?P<page_top>[\\w ]+)(?:\\:\\:)*(?P<page_sub1>[\\w ]+)*(?:\\:\\:)*(?P<page_sub2>[\\w ]+)*', \n",
    "    expand=True\n",
    "), meta=meta)\n",
    "logs[['page_top', 'page_sub1', 'page_sub2']] = logs[['page_top', 'page_sub1', 'page_sub2']].applymap(lambda s: s.strip() if isinstance(s, str) else 'none')\n",
    "# Then, merge rare categories mapping\n",
    "logs = logs.merge(mapping, how='left', left_on=['page_top', 'page_sub1', 'page_sub2'], right_on=['cat_1', 'cat_2', 'cat_3'])\n",
    "# Then, apply rules\n",
    "logs['label'] = logs['label'].where(~logs['page_top'].str.contains('accueil'), 'accueil')\n",
    "logs['label'] = logs['label'].where(~logs['page_top'].str.contains('category'), 'category')\n",
    "logs['label'] = logs['label'].where(~(\n",
    "    (logs['page_top'].str.contains('category')) & \n",
    "    (logs['page_sub1'].str.contains('sous_category')) \n",
    "), 'category')\n",
    "logs['label'] = logs['label'].where(~(\n",
    "    (logs['page_top'].str.contains('category')) & \n",
    "    ((logs['page_sub1'].str.contains('produit')) | (logs['page_sub2'].str.contains('produit')))\n",
    "), 'product')\n",
    "logs['label'] = logs['label'].fillna('page') # Default value\n",
    "# Finally, replace 'none' by np.nan\n",
    "logs[['page_top', 'page_sub1', 'page_sub2']] = logs[['page_top', 'page_sub1', 'page_sub2']].applymap(lambda s: np.nan if s == 'none' else s)\n",
    "\n",
    "## Encoding\n",
    "# Parse connected as boolean\n",
    "logs['connected_session'] = logs['connected_session'].map({'OUI': True, 'NON': False})\n",
    "# Categorize variables with low cardinality\n",
    "for col in ['page_top', 'device_type', 'device_model']:\n",
    "    logs[col] = logs[col].astype('category')\n",
    "\n",
    "# Drop useless columns\n",
    "logs = logs.drop(labels=['pages', 'id_session', 'cat_1', 'cat_2', 'cat_3'], axis=1)"
   ]
  },
  {
   "cell_type": "code",
   "execution_count": null,
   "metadata": {},
   "outputs": [],
   "source": [
    "logs.to_parquet('../data/logs')"
   ]
  },
  {
   "cell_type": "markdown",
   "metadata": {},
   "source": [
    "Then, we create the sessions dataset for future clustering use"
   ]
  },
  {
   "cell_type": "code",
   "execution_count": 56,
   "metadata": {},
   "outputs": [],
   "source": [
    "sessions = dd.read_parquet('../data/sorted_logs')"
   ]
  },
  {
   "cell_type": "code",
   "execution_count": 57,
   "metadata": {},
   "outputs": [
    {
     "name": "stderr",
     "output_type": "stream",
     "text": [
      "/Users/JEP/.pyenv/versions/3.6.6/envs/eleven-classif/lib/python3.6/site-packages/ipykernel_launcher.py:10: UserWarning: `meta` is not specified, inferred from partial data. Please provide `meta` if the result is unexpected.\n",
      "  Before: .apply(func)\n",
      "  After:  .apply(func, meta={'x': 'f8', 'y': 'f8'}) for dataframe result\n",
      "  or:     .apply(func, meta=('x', 'f8'))            for series result\n",
      "  # Remove the CWD from sys.path while we load stuff.\n"
     ]
    }
   ],
   "source": [
    "# Create features\n",
    "elements = []\n",
    "elements.append(sessions.groupby(sessions.index)['visitor_id'].first())\n",
    "elements.append(sessions.groupby(sessions.index)['event_date'].count().rename('nb_pages'))\n",
    "elements.append(sessions.groupby(sessions.index)['session_start_date'].first())\n",
    "elements.append(sessions.groupby(sessions.index)['event_date'].max().rename('session_end_date'))\n",
    "elements.append(sessions.groupby(sessions.index)['global_sources'].first())\n",
    "elements.append(sessions.groupby(sessions.index)['device_type'].first())\n",
    "elements.append(sessions.groupby(sessions.index)['device_model'].first())\n",
    "elements.append(sessions.groupby(sessions.index).apply(lambda df: df['label'].values.tolist()).rename('funnel'))"
   ]
  },
  {
   "cell_type": "code",
   "execution_count": 58,
   "metadata": {},
   "outputs": [],
   "source": [
    "# Merge everything into a DataFrame\n",
    "elements = [e.to_frame() for e in elements]\n",
    "sessions = elements[0]\n",
    "for e in elements[1:]:\n",
    "    sessions = sessions.merge(e, left_index=True, right_index=True)"
   ]
  },
  {
   "cell_type": "code",
   "execution_count": 59,
   "metadata": {},
   "outputs": [],
   "source": [
    "# Some more features\n",
    "sessions['duration'] = sessions['session_end_date'] - sessions['session_start_date']\n",
    "sessions['session_date'] = sessions['session_start_date'].dt.date"
   ]
  },
  {
   "cell_type": "code",
   "execution_count": null,
   "metadata": {},
   "outputs": [],
   "source": [
    "sessions = sessions.reset_index()\n",
    "sessions = sessions.compute()"
   ]
  },
  {
   "cell_type": "markdown",
   "metadata": {},
   "source": [
    "Then we reconcile orders data with sessions data"
   ]
  },
  {
   "cell_type": "code",
   "execution_count": 246,
   "metadata": {},
   "outputs": [],
   "source": [
    "# First, we filter internet orders \n",
    "cleaned_orders = joins.merge(orders, how='inner', on='client_number')\n",
    "cleaned_orders = cleaned_orders.loc[cleaned_orders.order_channel == 'Internet', ['visitor_id', 'client_number', 'order_date', 'order_channel', 'pre_tax_amount', 'cvic']]"
   ]
  },
  {
   "cell_type": "code",
   "execution_count": 247,
   "metadata": {},
   "outputs": [],
   "source": [
    "# We make sure merge keys are dates\n",
    "sessions['session_date'] = pd.to_datetime(sessions['session_date'])\n",
    "cleaned_orders['order_date'] = pd.to_datetime(cleaned_orders['order_date'])"
   ]
  },
  {
   "cell_type": "code",
   "execution_count": 248,
   "metadata": {},
   "outputs": [],
   "source": [
    "# We sort merge keys\n",
    "sessions = sessions.sort_values(by='session_date')\n",
    "cleaned_orders = cleaned_orders.sort_values(by='order_date')"
   ]
  },
  {
   "cell_type": "code",
   "execution_count": 249,
   "metadata": {},
   "outputs": [],
   "source": [
    "sessions_with_orders = pd.merge_asof(sessions, cleaned_orders, left_on='session_date', right_on='order_date', by='visitor_id', tolerance=pd.Timedelta('3d'), direction='forward')"
   ]
  },
  {
   "cell_type": "code",
   "execution_count": 250,
   "metadata": {},
   "outputs": [],
   "source": [
    "sessions_with_orders.to_csv('../data/sessions_with_orders.csv.gz', compression='gzip')"
   ]
  },
  {
   "cell_type": "markdown",
   "metadata": {},
   "source": [
    "Consistency check"
   ]
  },
  {
   "cell_type": "code",
   "execution_count": 252,
   "metadata": {},
   "outputs": [
    {
     "data": {
      "text/plain": [
       "False    127486\n",
       "True      29463\n",
       "Name: cvic, dtype: int64"
      ]
     },
     "execution_count": 252,
     "metadata": {},
     "output_type": "execute_result"
    }
   ],
   "source": [
    "sessions_with_orders.cvic.value_counts()"
   ]
  }
 ],
 "metadata": {
  "kernelspec": {
   "display_name": "eleven-classif",
   "language": "python",
   "name": "eleven-classif"
  },
  "language_info": {
   "codemirror_mode": {
    "name": "ipython",
    "version": 3
   },
   "file_extension": ".py",
   "mimetype": "text/x-python",
   "name": "python",
   "nbconvert_exporter": "python",
   "pygments_lexer": "ipython3",
   "version": "3.6.6"
  }
 },
 "nbformat": 4,
 "nbformat_minor": 2
}

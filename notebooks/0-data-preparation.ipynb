{
 "cells": [
  {
   "cell_type": "markdown",
   "metadata": {},
   "source": [
    "# Eleven supercase"
   ]
  },
  {
   "cell_type": "markdown",
   "metadata": {},
   "source": [
    "## Topic 3 - Classification"
   ]
  },
  {
   "cell_type": "markdown",
   "metadata": {},
   "source": [
    "#### _Group 9 - Régis Bouyoux, Gustave Larrouturou, Jean-Eudes Peloye, Sebastian Schwarz_"
   ]
  },
  {
   "cell_type": "code",
   "execution_count": null,
   "metadata": {},
   "outputs": [],
   "source": []
  },
  {
   "cell_type": "markdown",
   "metadata": {},
   "source": [
    "Our client is a cross-channel player in the textile industry. Originally selling by catalogue and over the phone it is now distributing through its own website and has a few dozens of stores.\n",
    "\n",
    "The conversion rate of the client’s web site is a far above the average conversion rate in the industry whereas its web site doesn’t even reach the standards, how is this possible ?\n",
    "\n",
    "Identifying the IMO from the PIO is a key attribution problem that affects strategic budget decisions. The PIO commands curve seems to be related to the 17 yearly mail which would mean that some IMO are hidden among the PIO.\n",
    "\n",
    "**Could we identify hidden IMO customers through their online behaviours ?**"
   ]
  },
  {
   "cell_type": "code",
   "execution_count": null,
   "metadata": {},
   "outputs": [],
   "source": []
  },
  {
   "cell_type": "markdown",
   "metadata": {},
   "source": [
    "### Data preparation"
   ]
  },
  {
   "cell_type": "code",
   "execution_count": 1,
   "metadata": {},
   "outputs": [],
   "source": [
    "import pandas as pd\n",
    "import numpy as np\n",
    "\n",
    "import dask\n",
    "import dask.dataframe as dd\n",
    "import dask.distributed as dist"
   ]
  },
  {
   "cell_type": "code",
   "execution_count": 2,
   "metadata": {},
   "outputs": [],
   "source": [
    "import pathlib"
   ]
  },
  {
   "cell_type": "code",
   "execution_count": 3,
   "metadata": {},
   "outputs": [],
   "source": [
    "cluster = dist.LocalCluster(n_workers=4, memory_limit='8G') # MBP config\n",
    "client = dist.Client(cluster)"
   ]
  },
  {
   "cell_type": "code",
   "execution_count": 4,
   "metadata": {},
   "outputs": [
    {
     "data": {
      "text/html": [
       "<table style=\"border: 2px solid white;\">\n",
       "<tr>\n",
       "<td style=\"vertical-align: top; border: 0px solid white\">\n",
       "<h3>Client</h3>\n",
       "<ul>\n",
       "  <li><b>Scheduler: </b>tcp://127.0.0.1:54293\n",
       "  <li><b>Dashboard: </b><a href='http://127.0.0.1:8787/status' target='_blank'>http://127.0.0.1:8787/status</a>\n",
       "</ul>\n",
       "</td>\n",
       "<td style=\"vertical-align: top; border: 0px solid white\">\n",
       "<h3>Cluster</h3>\n",
       "<ul>\n",
       "  <li><b>Workers: </b>4</li>\n",
       "  <li><b>Cores: </b>8</li>\n",
       "  <li><b>Memory: </b>32.00 GB</li>\n",
       "</ul>\n",
       "</td>\n",
       "</tr>\n",
       "</table>"
      ],
      "text/plain": [
       "<Client: scheduler='tcp://127.0.0.1:54293' processes=4 cores=8>"
      ]
     },
     "execution_count": 4,
     "metadata": {},
     "output_type": "execute_result"
    }
   ],
   "source": [
    "client"
   ]
  },
  {
   "cell_type": "code",
   "execution_count": 5,
   "metadata": {},
   "outputs": [],
   "source": [
    "common_params = {\n",
    "    'sep': ';',\n",
    "    'index_col': 0\n",
    "}"
   ]
  },
  {
   "cell_type": "markdown",
   "metadata": {},
   "source": [
    "#### Clients base"
   ]
  },
  {
   "cell_type": "code",
   "execution_count": 6,
   "metadata": {},
   "outputs": [
    {
     "name": "stdout",
     "output_type": "stream",
     "text": [
      ";CLIENT_NUMBER;CREATION_DATE;GENDER;BIRTH_YEAR;ZIPCODE\n",
      "0;-1182315409949716431;2002-12-05;Mme;1955.0;68440\n",
      "1;7142641182482142162;2002-12-05;Mme;;24100\n",
      "2;-4786858050561650068;2002-12-05;Mme;1945.0;39240\n",
      "3;-8463163259230597037;2002-12-05;Mme;;42290\n",
      "4;-8047395753631590665;2003-10-06;Mme;1934.0;13006\n",
      "5;-2369385976575044628;1995-03-01;Mme;1950.0;78770\n",
      "6;159112630817189253;2002-12-04;Mme;;30132\n",
      "7;-1608550333657870307;2002-12-04;Mme;;30840\n",
      "8;-4343559112705444389;2002-12-04;Mme;;.\n"
     ]
    }
   ],
   "source": [
    "!head ../data/CLIENTS_new.csv"
   ]
  },
  {
   "cell_type": "code",
   "execution_count": 7,
   "metadata": {},
   "outputs": [
    {
     "name": "stdout",
     "output_type": "stream",
     "text": [
      " 3125801 ../data/CLIENTS_new.csv\n"
     ]
    }
   ],
   "source": [
    "!wc -l ../data/CLIENTS_new.csv"
   ]
  },
  {
   "cell_type": "code",
   "execution_count": 8,
   "metadata": {},
   "outputs": [
    {
     "name": "stderr",
     "output_type": "stream",
     "text": [
      "/Users/JEP/.pyenv/versions/3.6.6/envs/eleven-classif/lib/python3.6/site-packages/numpy/lib/arraysetops.py:522: FutureWarning: elementwise comparison failed; returning scalar instead, but in the future will perform elementwise comparison\n",
      "  mask |= (ar1 == a)\n"
     ]
    }
   ],
   "source": [
    "clients = pd.read_csv('../data/CLIENTS_new.csv', \n",
    "                      parse_dates=[2], \n",
    "                      **common_params, \n",
    "                      dtype={'CLIENT_NUMBER': object})\n",
    "clients.columns = clients.columns.map(str.lower)"
   ]
  },
  {
   "cell_type": "code",
   "execution_count": 9,
   "metadata": {},
   "outputs": [
    {
     "name": "stdout",
     "output_type": "stream",
     "text": [
      "<class 'pandas.core.frame.DataFrame'>\n",
      "Int64Index: 3125800 entries, 0 to 3125799\n",
      "Data columns (total 5 columns):\n",
      "client_number    object\n",
      "creation_date    datetime64[ns]\n",
      "gender           object\n",
      "birth_year       float64\n",
      "zipcode          object\n",
      "dtypes: datetime64[ns](1), float64(1), object(3)\n",
      "memory usage: 143.1+ MB\n"
     ]
    }
   ],
   "source": [
    "clients.info()"
   ]
  },
  {
   "cell_type": "code",
   "execution_count": 10,
   "metadata": {},
   "outputs": [],
   "source": [
    "# Categorise gender\n",
    "clients['gender'] = clients['gender'].astype('category')\n",
    "# Clean zipcode : we remove all foreign zipcodes\n",
    "valid_zipcodes = clients['zipcode'].str.match(r'[A-Z0-9-]{5}', na=False)\n",
    "clients.loc[clients['zipcode'].isnull() | ~valid_zipcodes, 'zipcode'] = np.nan"
   ]
  },
  {
   "cell_type": "code",
   "execution_count": 11,
   "metadata": {},
   "outputs": [
    {
     "data": {
      "text/html": [
       "<div>\n",
       "<style scoped>\n",
       "    .dataframe tbody tr th:only-of-type {\n",
       "        vertical-align: middle;\n",
       "    }\n",
       "\n",
       "    .dataframe tbody tr th {\n",
       "        vertical-align: top;\n",
       "    }\n",
       "\n",
       "    .dataframe thead th {\n",
       "        text-align: right;\n",
       "    }\n",
       "</style>\n",
       "<table border=\"1\" class=\"dataframe\">\n",
       "  <thead>\n",
       "    <tr style=\"text-align: right;\">\n",
       "      <th></th>\n",
       "      <th>client_number</th>\n",
       "      <th>creation_date</th>\n",
       "      <th>gender</th>\n",
       "      <th>birth_year</th>\n",
       "      <th>zipcode</th>\n",
       "    </tr>\n",
       "  </thead>\n",
       "  <tbody>\n",
       "    <tr>\n",
       "      <th>0</th>\n",
       "      <td>-1182315409949716431</td>\n",
       "      <td>2002-12-05</td>\n",
       "      <td>Mme</td>\n",
       "      <td>1955.0</td>\n",
       "      <td>68440</td>\n",
       "    </tr>\n",
       "    <tr>\n",
       "      <th>1</th>\n",
       "      <td>7142641182482142162</td>\n",
       "      <td>2002-12-05</td>\n",
       "      <td>Mme</td>\n",
       "      <td>NaN</td>\n",
       "      <td>24100</td>\n",
       "    </tr>\n",
       "    <tr>\n",
       "      <th>2</th>\n",
       "      <td>-4786858050561650068</td>\n",
       "      <td>2002-12-05</td>\n",
       "      <td>Mme</td>\n",
       "      <td>1945.0</td>\n",
       "      <td>39240</td>\n",
       "    </tr>\n",
       "    <tr>\n",
       "      <th>3</th>\n",
       "      <td>-8463163259230597037</td>\n",
       "      <td>2002-12-05</td>\n",
       "      <td>Mme</td>\n",
       "      <td>NaN</td>\n",
       "      <td>42290</td>\n",
       "    </tr>\n",
       "    <tr>\n",
       "      <th>4</th>\n",
       "      <td>-8047395753631590665</td>\n",
       "      <td>2003-10-06</td>\n",
       "      <td>Mme</td>\n",
       "      <td>1934.0</td>\n",
       "      <td>13006</td>\n",
       "    </tr>\n",
       "  </tbody>\n",
       "</table>\n",
       "</div>"
      ],
      "text/plain": [
       "          client_number creation_date gender  birth_year zipcode\n",
       "0  -1182315409949716431    2002-12-05    Mme      1955.0   68440\n",
       "1   7142641182482142162    2002-12-05    Mme         NaN   24100\n",
       "2  -4786858050561650068    2002-12-05    Mme      1945.0   39240\n",
       "3  -8463163259230597037    2002-12-05    Mme         NaN   42290\n",
       "4  -8047395753631590665    2003-10-06    Mme      1934.0   13006"
      ]
     },
     "execution_count": 11,
     "metadata": {},
     "output_type": "execute_result"
    }
   ],
   "source": [
    "clients.head()"
   ]
  },
  {
   "cell_type": "markdown",
   "metadata": {},
   "source": [
    "#### Commandes"
   ]
  },
  {
   "cell_type": "code",
   "execution_count": 12,
   "metadata": {},
   "outputs": [
    {
     "name": "stdout",
     "output_type": "stream",
     "text": [
      ";CLIENT_NUMBER;ORDER_NUMBER;ORDER_DATE;ORDER_CHANNEL;PRE_TAX_AMOUNT;CVIC\n",
      "0;7178742953965764755;2302390;2010-01-05;Telephone;84.28;True\n",
      "1;-2373390172893352743;2302392;2010-01-17;Telephone;97.85;True\n",
      "2;-240944575938990062;2302393;2010-01-05;Telephone;58.45;True\n",
      "3;1720395480962300217;2302394;2010-01-05;Telephone;31.19;True\n",
      "4;7161131950067982732;2302396;2010-01-14;Telephone;37.45;True\n",
      "5;-792970086774522568;2302397;2010-01-20;Courier;53.59;True\n",
      "6;-6274234340433084502;2302398;2010-01-05;Telephone;69.74;False\n",
      "7;879133938684538799;2302399;2010-01-05;Telephone;95.64;False\n",
      "8;3966491398253851080;2302400;2010-01-05;Telephone;59.78;True\n"
     ]
    }
   ],
   "source": [
    "!head ../data/CMD_new.csv"
   ]
  },
  {
   "cell_type": "code",
   "execution_count": 13,
   "metadata": {},
   "outputs": [
    {
     "name": "stdout",
     "output_type": "stream",
     "text": [
      " 7323228 ../data/CMD_new.csv\n"
     ]
    }
   ],
   "source": [
    "!wc -l ../data/CMD_new.csv"
   ]
  },
  {
   "cell_type": "code",
   "execution_count": 14,
   "metadata": {},
   "outputs": [
    {
     "name": "stderr",
     "output_type": "stream",
     "text": [
      "/Users/JEP/.pyenv/versions/3.6.6/envs/eleven-classif/lib/python3.6/site-packages/numpy/lib/arraysetops.py:522: FutureWarning: elementwise comparison failed; returning scalar instead, but in the future will perform elementwise comparison\n",
      "  mask |= (ar1 == a)\n"
     ]
    }
   ],
   "source": [
    "orders = pd.read_csv('../data/CMD_new.csv', \n",
    "                     parse_dates=[3], \n",
    "                     **common_params, \n",
    "                     dtype={'CLIENT_NUMBER': object})\n",
    "orders.columns = orders.columns.map(str.lower)"
   ]
  },
  {
   "cell_type": "code",
   "execution_count": 15,
   "metadata": {},
   "outputs": [
    {
     "name": "stdout",
     "output_type": "stream",
     "text": [
      "<class 'pandas.core.frame.DataFrame'>\n",
      "Int64Index: 7323227 entries, 0 to 7323226\n",
      "Data columns (total 6 columns):\n",
      "client_number     object\n",
      "order_number      int64\n",
      "order_date        datetime64[ns]\n",
      "order_channel     object\n",
      "pre_tax_amount    float64\n",
      "cvic              bool\n",
      "dtypes: bool(1), datetime64[ns](1), float64(1), int64(1), object(2)\n",
      "memory usage: 342.2+ MB\n"
     ]
    }
   ],
   "source": [
    "orders.info()"
   ]
  },
  {
   "cell_type": "code",
   "execution_count": 16,
   "metadata": {},
   "outputs": [
    {
     "data": {
      "text/html": [
       "<div>\n",
       "<style scoped>\n",
       "    .dataframe tbody tr th:only-of-type {\n",
       "        vertical-align: middle;\n",
       "    }\n",
       "\n",
       "    .dataframe tbody tr th {\n",
       "        vertical-align: top;\n",
       "    }\n",
       "\n",
       "    .dataframe thead th {\n",
       "        text-align: right;\n",
       "    }\n",
       "</style>\n",
       "<table border=\"1\" class=\"dataframe\">\n",
       "  <thead>\n",
       "    <tr style=\"text-align: right;\">\n",
       "      <th></th>\n",
       "      <th>client_number</th>\n",
       "      <th>order_number</th>\n",
       "      <th>order_date</th>\n",
       "      <th>order_channel</th>\n",
       "      <th>pre_tax_amount</th>\n",
       "      <th>cvic</th>\n",
       "    </tr>\n",
       "  </thead>\n",
       "  <tbody>\n",
       "    <tr>\n",
       "      <th>0</th>\n",
       "      <td>7178742953965764755</td>\n",
       "      <td>2302390</td>\n",
       "      <td>2010-01-05</td>\n",
       "      <td>Telephone</td>\n",
       "      <td>84.28</td>\n",
       "      <td>True</td>\n",
       "    </tr>\n",
       "    <tr>\n",
       "      <th>1</th>\n",
       "      <td>-2373390172893352743</td>\n",
       "      <td>2302392</td>\n",
       "      <td>2010-01-17</td>\n",
       "      <td>Telephone</td>\n",
       "      <td>97.85</td>\n",
       "      <td>True</td>\n",
       "    </tr>\n",
       "    <tr>\n",
       "      <th>2</th>\n",
       "      <td>-240944575938990062</td>\n",
       "      <td>2302393</td>\n",
       "      <td>2010-01-05</td>\n",
       "      <td>Telephone</td>\n",
       "      <td>58.45</td>\n",
       "      <td>True</td>\n",
       "    </tr>\n",
       "    <tr>\n",
       "      <th>3</th>\n",
       "      <td>1720395480962300217</td>\n",
       "      <td>2302394</td>\n",
       "      <td>2010-01-05</td>\n",
       "      <td>Telephone</td>\n",
       "      <td>31.19</td>\n",
       "      <td>True</td>\n",
       "    </tr>\n",
       "    <tr>\n",
       "      <th>4</th>\n",
       "      <td>7161131950067982732</td>\n",
       "      <td>2302396</td>\n",
       "      <td>2010-01-14</td>\n",
       "      <td>Telephone</td>\n",
       "      <td>37.45</td>\n",
       "      <td>True</td>\n",
       "    </tr>\n",
       "  </tbody>\n",
       "</table>\n",
       "</div>"
      ],
      "text/plain": [
       "          client_number  order_number order_date order_channel  \\\n",
       "0   7178742953965764755       2302390 2010-01-05     Telephone   \n",
       "1  -2373390172893352743       2302392 2010-01-17     Telephone   \n",
       "2   -240944575938990062       2302393 2010-01-05     Telephone   \n",
       "3   1720395480962300217       2302394 2010-01-05     Telephone   \n",
       "4   7161131950067982732       2302396 2010-01-14     Telephone   \n",
       "\n",
       "   pre_tax_amount  cvic  \n",
       "0           84.28  True  \n",
       "1           97.85  True  \n",
       "2           58.45  True  \n",
       "3           31.19  True  \n",
       "4           37.45  True  "
      ]
     },
     "execution_count": 16,
     "metadata": {},
     "output_type": "execute_result"
    }
   ],
   "source": [
    "orders.head()"
   ]
  },
  {
   "cell_type": "markdown",
   "metadata": {},
   "source": [
    "How many orders have been made via Internet by the same customer during the same day ?"
   ]
  },
  {
   "cell_type": "code",
   "execution_count": 17,
   "metadata": {},
   "outputs": [
    {
     "data": {
      "text/plain": [
       "2349"
      ]
     },
     "execution_count": 17,
     "metadata": {},
     "output_type": "execute_result"
    }
   ],
   "source": [
    "((orders.loc[lambda df: df['order_channel'] == 'Internet']\n",
    "      .groupby(['client_number', 'order_date'])\n",
    "      .count()\n",
    "      .loc[lambda df: df.index.get_level_values(1) > '2017-08-01', 'order_number']) == 2).sum()"
   ]
  },
  {
   "cell_type": "markdown",
   "metadata": {},
   "source": [
    "We should pay attention to these orders when joining this table with the web sessions for attribution."
   ]
  },
  {
   "cell_type": "markdown",
   "metadata": {},
   "source": [
    "#### Conversion table"
   ]
  },
  {
   "cell_type": "markdown",
   "metadata": {},
   "source": [
    "This table links the IDs of the web visitors to their cross-channel client number in the retailer database"
   ]
  },
  {
   "cell_type": "code",
   "execution_count": 18,
   "metadata": {},
   "outputs": [
    {
     "name": "stdout",
     "output_type": "stream",
     "text": [
      ";VISITOR_ID;CLIENT_NUMBER\n",
      "0;153926;2117916268519517296\n",
      "1;153987;-3983308646720649306\n",
      "2;153992;-2525192206264180159\n",
      "3;153996;1543724696132514059\n",
      "4;154002;-3753347333864614269\n",
      "5;154003;-6763383487168091997\n",
      "6;154004;-7429564109483778435\n",
      "7;154005;403207568119538010\n",
      "8;154006;2387852670736446380\n"
     ]
    }
   ],
   "source": [
    "!head ../data/TABLE_CONVERSION_new.csv"
   ]
  },
  {
   "cell_type": "code",
   "execution_count": 19,
   "metadata": {},
   "outputs": [
    {
     "name": "stdout",
     "output_type": "stream",
     "text": [
      "  580405 ../data/TABLE_CONVERSION_new.csv\n"
     ]
    }
   ],
   "source": [
    "!wc -l ../data/TABLE_CONVERSION_new.csv"
   ]
  },
  {
   "cell_type": "code",
   "execution_count": 20,
   "metadata": {},
   "outputs": [],
   "source": [
    "joins = pd.read_csv('../data/TABLE_CONVERSION_new.csv', \n",
    "                    **common_params, \n",
    "                    dtype={'CLIENT_NUMBER': object})\n",
    "joins.columns = joins.columns.map(str.lower)"
   ]
  },
  {
   "cell_type": "code",
   "execution_count": 21,
   "metadata": {},
   "outputs": [
    {
     "name": "stdout",
     "output_type": "stream",
     "text": [
      "<class 'pandas.core.frame.DataFrame'>\n",
      "Int64Index: 580404 entries, 0 to 580403\n",
      "Data columns (total 2 columns):\n",
      "visitor_id       580404 non-null int64\n",
      "client_number    580404 non-null object\n",
      "dtypes: int64(1), object(1)\n",
      "memory usage: 13.3+ MB\n"
     ]
    }
   ],
   "source": [
    "joins.info()"
   ]
  },
  {
   "cell_type": "code",
   "execution_count": 22,
   "metadata": {},
   "outputs": [
    {
     "data": {
      "text/html": [
       "<div>\n",
       "<style scoped>\n",
       "    .dataframe tbody tr th:only-of-type {\n",
       "        vertical-align: middle;\n",
       "    }\n",
       "\n",
       "    .dataframe tbody tr th {\n",
       "        vertical-align: top;\n",
       "    }\n",
       "\n",
       "    .dataframe thead th {\n",
       "        text-align: right;\n",
       "    }\n",
       "</style>\n",
       "<table border=\"1\" class=\"dataframe\">\n",
       "  <thead>\n",
       "    <tr style=\"text-align: right;\">\n",
       "      <th></th>\n",
       "      <th>visitor_id</th>\n",
       "      <th>client_number</th>\n",
       "    </tr>\n",
       "  </thead>\n",
       "  <tbody>\n",
       "    <tr>\n",
       "      <th>0</th>\n",
       "      <td>153926</td>\n",
       "      <td>2117916268519517296</td>\n",
       "    </tr>\n",
       "    <tr>\n",
       "      <th>1</th>\n",
       "      <td>153987</td>\n",
       "      <td>-3983308646720649306</td>\n",
       "    </tr>\n",
       "    <tr>\n",
       "      <th>2</th>\n",
       "      <td>153992</td>\n",
       "      <td>-2525192206264180159</td>\n",
       "    </tr>\n",
       "    <tr>\n",
       "      <th>3</th>\n",
       "      <td>153996</td>\n",
       "      <td>1543724696132514059</td>\n",
       "    </tr>\n",
       "    <tr>\n",
       "      <th>4</th>\n",
       "      <td>154002</td>\n",
       "      <td>-3753347333864614269</td>\n",
       "    </tr>\n",
       "  </tbody>\n",
       "</table>\n",
       "</div>"
      ],
      "text/plain": [
       "   visitor_id         client_number\n",
       "0      153926   2117916268519517296\n",
       "1      153987  -3983308646720649306\n",
       "2      153992  -2525192206264180159\n",
       "3      153996   1543724696132514059\n",
       "4      154002  -3753347333864614269"
      ]
     },
     "execution_count": 22,
     "metadata": {},
     "output_type": "execute_result"
    }
   ],
   "source": [
    "joins.head()"
   ]
  },
  {
   "cell_type": "markdown",
   "metadata": {},
   "source": [
    "#### Logs"
   ]
  },
  {
   "cell_type": "markdown",
   "metadata": {},
   "source": [
    "Web logs require special preprocessing given the size of the data and the signal they bring on customer behavior."
   ]
  },
  {
   "cell_type": "code",
   "execution_count": null,
   "metadata": {},
   "outputs": [],
   "source": [
    "!head ../data/LOG_WEB_201708.csv"
   ]
  },
  {
   "cell_type": "code",
   "execution_count": null,
   "metadata": {},
   "outputs": [],
   "source": [
    "!wc -l ../data/LOG_WEB_20*"
   ]
  },
  {
   "cell_type": "markdown",
   "metadata": {},
   "source": [
    "Here we needed to fix the 201709 file by removing an extra column."
   ]
  },
  {
   "cell_type": "code",
   "execution_count": null,
   "metadata": {},
   "outputs": [],
   "source": [
    "# Drop first two columns\n",
    "(pd.read_csv('../data/LOG_WEB_201709.csv', sep=';')\n",
    "   .iloc[:, 2:]\n",
    "   .to_csv('../data/LOG_WEB_201709_new.csv', sep=';'))"
   ]
  },
  {
   "cell_type": "markdown",
   "metadata": {},
   "source": [
    "##### 1/ Logs cleaning and feature engineering"
   ]
  },
  {
   "cell_type": "markdown",
   "metadata": {},
   "source": [
    "Here we're going to enrich the log entries by :\n",
    "- creating new sessions indexes for easier merging\n",
    "- parsing the 'pages' column into pages general categories\n",
    "- encoding columns according to their data type"
   ]
  },
  {
   "cell_type": "code",
   "execution_count": null,
   "metadata": {},
   "outputs": [],
   "source": [
    "import hashlib\n",
    "\n",
    "def session_hash(row, selected=None):\n",
    "    payload = '-'.join([str(row[c]) for c in selected])\n",
    "    return hashlib.sha1(payload.encode('utf8')).hexdigest()[:12]"
   ]
  },
  {
   "cell_type": "code",
   "execution_count": null,
   "metadata": {},
   "outputs": [],
   "source": [
    "mapping = pd.read_csv('../data/funnel_w_label.csv', sep=';')\n",
    "mapping = mapping.drop(['key', 'cat_4'], axis=1)\n",
    "mapping = mapping.applymap(lambda s: s.strip() if s is not np.nan else 'none')"
   ]
  },
  {
   "cell_type": "code",
   "execution_count": null,
   "metadata": {},
   "outputs": [],
   "source": [
    "logs = (dd.read_csv('../data/LOG_WEB_20*.csv', \n",
    "            sep=';', \n",
    "            parse_dates=[4,5], \n",
    "            blocksize=500*1e6, \n",
    "            dtype={'LOADINGS': 'float64'}))"
   ]
  },
  {
   "cell_type": "code",
   "execution_count": null,
   "metadata": {},
   "outputs": [],
   "source": [
    "# Lowercase columns\n",
    "logs.columns = logs.columns.map(str.lower)\n",
    "# Drop id and loadings\n",
    "logs = logs.iloc[:, 1:-1]\n",
    "# Drop unknown pages\n",
    "logs = logs.dropna(subset=['pages'], how='all')"
   ]
  },
  {
   "cell_type": "code",
   "execution_count": null,
   "metadata": {},
   "outputs": [],
   "source": [
    "# Recreate session id\n",
    "logs['session_id'] = logs.apply(session_hash, axis=1, selected=['visitor_id', 'session_start_date', 'global_sources', 'device_type'], meta=str)"
   ]
  },
  {
   "cell_type": "code",
   "execution_count": null,
   "metadata": {},
   "outputs": [],
   "source": [
    "# Extract \"fil d'ariane\" page components \n",
    "meta = pd.DataFrame(columns=['page_top', 'page_sub1', 'page_sub2'], dtype='object')\n",
    "logs[['page_top', 'page_sub1', 'page_sub2']] = logs['pages'].map_partitions(lambda df: df.str.extract(\n",
    "    '(?P<page_top>[\\w ]+)(?:\\:\\:)*(?P<page_sub1>[\\w ]+)*(?:\\:\\:)*(?P<page_sub2>[\\w ]+)*', \n",
    "    expand=True\n",
    "), meta=meta)\n",
    "logs[['page_top', 'page_sub1', 'page_sub2']] = logs[['page_top', 'page_sub1', 'page_sub2']].applymap(lambda s: s.strip() if isinstance(s, str) else 'none')\n",
    "\n",
    "# Then, merge rare categories mapping\n",
    "logs = logs.merge(mapping, how='left', left_on=['page_top', 'page_sub1', 'page_sub2'], right_on=['cat_1', 'cat_2', 'cat_3'])"
   ]
  },
  {
   "cell_type": "code",
   "execution_count": null,
   "metadata": {},
   "outputs": [],
   "source": [
    "# Then, apply rules\n",
    "logs['label'] = logs['label'].where(~logs['page_top'].str.contains('accueil'), 'accueil')\n",
    "logs['label'] = logs['label'].where(~logs['page_top'].str.contains('category'), 'category')\n",
    "logs['label'] = logs['label'].where(~(\n",
    "    (logs['page_top'].str.contains('category')) & \n",
    "    (logs['page_sub1'].str.contains('sous_category')) \n",
    "), 'category')\n",
    "logs['label'] = logs['label'].where(~(\n",
    "    (logs['page_top'].str.contains('category')) & \n",
    "    ((logs['page_sub1'].str.contains('produit')) | (logs['page_sub2'].str.contains('produit')))\n",
    "), 'product')\n",
    "logs['label'] = logs['label'].fillna('page') # Default value\n",
    "# Finally, replace 'none' by np.nan\n",
    "logs[['page_top', 'page_sub1', 'page_sub2']] = logs[['page_top', 'page_sub1', 'page_sub2']].applymap(lambda s: np.nan if s == 'none' else s)\n",
    "\n",
    "## Encoding\n",
    "# Parse connected as boolean\n",
    "logs['connected_session'] = logs['connected_session'].map({'OUI': True, 'NON': False})\n",
    "# Categorize variables with low cardinality\n",
    "for col in ['page_top', 'device_type', 'device_model']:\n",
    "    logs[col] = logs[col].astype('category')\n",
    "\n",
    "# Drop useless columns\n",
    "logs = logs.drop(labels=['pages', 'id_session', 'cat_1', 'cat_2', 'cat_3'], axis=1)"
   ]
  },
  {
   "cell_type": "code",
   "execution_count": null,
   "metadata": {},
   "outputs": [],
   "source": [
    "logs = logs.persist()"
   ]
  },
  {
   "cell_type": "code",
   "execution_count": null,
   "metadata": {},
   "outputs": [],
   "source": [
    "logs.to_parquet('../data/logs')"
   ]
  },
  {
   "cell_type": "markdown",
   "metadata": {},
   "source": [
    "##### 2/ Sessions"
   ]
  },
  {
   "cell_type": "markdown",
   "metadata": {},
   "source": [
    "Then, we're going to aggregate the logs into session metrics in order to quantify customer behavior."
   ]
  },
  {
   "cell_type": "code",
   "execution_count": 34,
   "metadata": {},
   "outputs": [],
   "source": [
    "sessions = dd.read_parquet('../data/logs')"
   ]
  },
  {
   "cell_type": "code",
   "execution_count": 35,
   "metadata": {},
   "outputs": [],
   "source": [
    "sessions = sessions.set_index('session_id')\n",
    "sessions = sessions.persist()"
   ]
  },
  {
   "cell_type": "code",
   "execution_count": 36,
   "metadata": {},
   "outputs": [
    {
     "name": "stderr",
     "output_type": "stream",
     "text": [
      "/Users/JEP/.pyenv/versions/3.6.6/envs/eleven-classif/lib/python3.6/site-packages/ipykernel_launcher.py:18: UserWarning: `meta` is not specified, inferred from partial data. Please provide `meta` if the result is unexpected.\n",
      "  Before: .apply(func)\n",
      "  After:  .apply(func, meta={'x': 'f8', 'y': 'f8'}) for dataframe result\n",
      "  or:     .apply(func, meta=('x', 'f8'))            for series result\n"
     ]
    }
   ],
   "source": [
    "# Create features\n",
    "elements = []\n",
    "# Visitor ID\n",
    "elements.append(sessions.groupby(sessions.index)['visitor_id'].first())\n",
    "# Number of visited pages in a session\n",
    "elements.append(sessions.groupby(sessions.index)['event_date'].count().rename('nb_pages'))\n",
    "# Date of session start\n",
    "elements.append(sessions.groupby(sessions.index)['session_start_date'].first())\n",
    "# Date of session end\n",
    "elements.append(sessions.groupby(sessions.index)['event_date'].max().rename('session_end_date'))\n",
    "# Source\n",
    "elements.append(sessions.groupby(sessions.index)['global_sources'].first())\n",
    "# Device type\n",
    "elements.append(sessions.groupby(sessions.index)['device_type'].first())\n",
    "# Device model\n",
    "elements.append(sessions.groupby(sessions.index)['device_model'].first())\n",
    "# List of visited pages, in chronological order\n",
    "elements.append(sessions.groupby(sessions.index).apply(lambda df: df['label'].values.tolist()).rename('funnel'))"
   ]
  },
  {
   "cell_type": "code",
   "execution_count": 37,
   "metadata": {},
   "outputs": [],
   "source": [
    "# Merge everything into a DataFrame\n",
    "elements = [e.to_frame() for e in elements]\n",
    "sessions = elements[0]\n",
    "for e in elements[1:]:\n",
    "    sessions = sessions.merge(e, left_index=True, right_index=True)"
   ]
  },
  {
   "cell_type": "code",
   "execution_count": 38,
   "metadata": {},
   "outputs": [],
   "source": [
    "# Some more features\n",
    "sessions['duration'] = sessions['session_end_date'] - sessions['session_start_date']\n",
    "sessions['session_date'] = sessions['session_start_date'].dt.date"
   ]
  },
  {
   "cell_type": "code",
   "execution_count": 40,
   "metadata": {},
   "outputs": [],
   "source": [
    "sessions = sessions.reset_index()\n",
    "sessions = sessions.compute()"
   ]
  },
  {
   "cell_type": "code",
   "execution_count": 42,
   "metadata": {},
   "outputs": [],
   "source": [
    "sessions = sessions.drop('index', axis=1)"
   ]
  },
  {
   "cell_type": "code",
   "execution_count": 43,
   "metadata": {},
   "outputs": [],
   "source": [
    "sessions.to_csv('../data/sessions.csv.gz', compression='gzip')"
   ]
  },
  {
   "cell_type": "markdown",
   "metadata": {},
   "source": [
    "Then we merge the sessions data with the orders database in order to attribute conversions to web visits."
   ]
  },
  {
   "cell_type": "code",
   "execution_count": 44,
   "metadata": {},
   "outputs": [],
   "source": [
    "# First, we filter orders to remove non-internet ones \n",
    "cleaned_orders = joins.merge(orders, how='inner', on='client_number')\n",
    "cleaned_orders = cleaned_orders.loc[cleaned_orders.order_channel == 'Internet', ['visitor_id', 'client_number', 'order_date', 'order_channel', 'pre_tax_amount', 'cvic']]"
   ]
  },
  {
   "cell_type": "code",
   "execution_count": 45,
   "metadata": {},
   "outputs": [],
   "source": [
    "# We make sure merge keys are dates\n",
    "sessions['session_date'] = pd.to_datetime(sessions['session_date'])\n",
    "cleaned_orders['order_date'] = pd.to_datetime(cleaned_orders['order_date'])"
   ]
  },
  {
   "cell_type": "code",
   "execution_count": 46,
   "metadata": {},
   "outputs": [],
   "source": [
    "# We sort merge keys\n",
    "sessions = sessions.sort_values(by='session_date')\n",
    "cleaned_orders = cleaned_orders.sort_values(by='order_date')"
   ]
  },
  {
   "cell_type": "markdown",
   "metadata": {},
   "source": [
    "The merge is done on both the visitor_id and the session_date/order_date keys, with a tolerance of 3d : it means that the order confirmation can happen as much as 3 days after the session date."
   ]
  },
  {
   "cell_type": "code",
   "execution_count": 47,
   "metadata": {},
   "outputs": [],
   "source": [
    "sessions_with_orders = pd.merge_asof(sessions, cleaned_orders, left_on='session_date', right_on='order_date', by='visitor_id', tolerance=pd.Timedelta('3d'), direction='forward')"
   ]
  },
  {
   "cell_type": "code",
   "execution_count": 52,
   "metadata": {},
   "outputs": [],
   "source": [
    "sessions_with_orders['funnel'] = sessions_with_orders['funnel'].apply(str)"
   ]
  },
  {
   "cell_type": "code",
   "execution_count": 53,
   "metadata": {},
   "outputs": [],
   "source": [
    "sessions_with_orders = sessions_with_orders.drop_duplicates()"
   ]
  },
  {
   "cell_type": "code",
   "execution_count": 54,
   "metadata": {},
   "outputs": [],
   "source": [
    "sessions_with_orders.to_csv('../data/sessions_with_orders.csv.gz', compression='gzip')"
   ]
  },
  {
   "cell_type": "markdown",
   "metadata": {},
   "source": [
    "Consistency check"
   ]
  },
  {
   "cell_type": "code",
   "execution_count": null,
   "metadata": {},
   "outputs": [],
   "source": [
    "sessions_with_orders.cvic.value_counts()"
   ]
  }
 ],
 "metadata": {
  "kernelspec": {
   "display_name": "eleven-classif",
   "language": "python",
   "name": "eleven-classif"
  },
  "language_info": {
   "codemirror_mode": {
    "name": "ipython",
    "version": 3
   },
   "file_extension": ".py",
   "mimetype": "text/x-python",
   "name": "python",
   "nbconvert_exporter": "python",
   "pygments_lexer": "ipython3",
   "version": "3.6.6"
  }
 },
 "nbformat": 4,
 "nbformat_minor": 2
}
